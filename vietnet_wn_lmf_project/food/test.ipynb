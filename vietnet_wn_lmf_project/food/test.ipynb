{
 "cells": [
  {
   "cell_type": "code",
   "execution_count": null,
   "id": "c49f047a",
   "metadata": {},
   "outputs": [
    {
     "name": "stderr",
     "output_type": "stream",
     "text": [
      "\u001b[KSkipping vietnet-food:1.0 (VietNet Vietnamese Food Lexicon (All)); already added\n",
      "\n"
     ]
    }
   ],
   "source": [
    "import wn\n",
    "wn.remove('vietnet-food:1.0')\n",
    "wn.add('./vietnet_food (thủ công).xml')\n",
    "lexicon = wn.Wordnet('vietnet-food:1.0')"
   ]
  },
  {
   "cell_type": "code",
   "execution_count": 23,
   "id": "72ddeb8c",
   "metadata": {},
   "outputs": [],
   "source": [
    "def printInfo(synset):\n",
    "    print(f'Từ: {synset.lemmas()}')\n",
    "    print(f'SynsetID: {synset.id}')\n",
    "    print(f'Nghĩa: {synset.definition()}')\n",
    "    print(f'Ví dụ: {synset.examples()}')"
   ]
  },
  {
   "cell_type": "code",
   "execution_count": 31,
   "id": "dbf073cc",
   "metadata": {},
   "outputs": [
    {
     "name": "stdout",
     "output_type": "stream",
     "text": [
      "==================================================\n",
      "Từ: ['mồi', 'thức ăn']\n",
      "SynsetID: vietnet-food-00000001-n\n",
      "Nghĩa: thức ăn của các loài động vật, nói chung\n",
      "Ví dụ: ['cọp rình mồi chim mẹ đang mớm mồi cho con kiến tha mồi', 'chế biến thức ăn cỏ là nguồn thức ăn chính của trâu bò']\n",
      "------------------------------\n",
      "* hyponym\n",
      "**********\n",
      "Từ: ['cơm cháo']\n",
      "SynsetID: vietnet-food-00000003-n\n",
      "Nghĩa: cái ăn thường ngày như cơm, cháo, v.v. [nói khái quát]\n",
      "Ví dụ: ['cơm cháo gì chưa? \"Mẹ già hai đứa nuôi chung, Đứa lo cơm cháo, đứa giùm thuốc thang.\" (Cdao)']\n",
      "**********\n",
      "Từ: ['cơm bữa', 'cơm nước', 'rau dưa']\n",
      "SynsetID: vietnet-food-00000006-n\n",
      "Nghĩa: cơm ăn mỗi bữa hằng ngày [thường không có gì đặc biệt]\n",
      "Ví dụ: ['cửa hàng bán cơm bữa', 'đã cơm nước gì chưa? \"Vợ Hậu xuống bếp bảo ban người nhà làm cơm nước.\" (Nguyễn Công Hoan; 11)', 'cơm rau dưa \"Hay chi sãi vãi ở chùa, Rau dưa khổ hạnh bo bo tháng ngày.\" (BCB)']\n",
      "**********\n",
      "Từ: ['thực phẩm']\n",
      "SynsetID: vietnet-food-00000008-n\n",
      "Nghĩa: các thứ dùng để chế biến thành món ăn, như thịt, cá, trứng, v.v. [nói khái quát]; phân biệt với lương thực\n",
      "Ví dụ: ['bảo quản thực phẩm nhà máy chế biến thực phẩm']\n",
      "**********\n",
      "Từ: ['lương khô', 'quân lương']\n",
      "SynsetID: vietnet-food-00000010-n\n",
      "Nghĩa: thức ăn làm sẵn, ở dạng khô, có thể dự trữ để ăn dần\n",
      "Ví dụ: ['đem lương khô đi ăn đường bánh lương khô', 'chuẩn bị đầy đủ quân lương']\n",
      "**********\n",
      "Từ: ['thức ăn tinh']\n",
      "SynsetID: vietnet-food-00000059-n\n",
      "Nghĩa: thức ăn dành cho vật nuôi, đã qua chế biến và có giá trị dinh dưỡng cao\n",
      "Ví dụ: []\n",
      "**********\n",
      "Từ: ['nước lạnh', 'thuỷ']\n",
      "SynsetID: vietnet-food-00000147-n\n",
      "Nghĩa: nước lã\n",
      "Ví dụ: ['đau bụng vì uống nước lạnh', 'giao thông đường thuỷ']\n",
      "**********\n",
      "Từ: ['vi chất']\n",
      "SynsetID: vietnet-food-00000150-n\n",
      "Nghĩa: chất chỉ cần một lượng rất nhỏ, nhưng có tác dụng lớn đến sự phát triển của cơ thể\n",
      "Ví dụ: ['bị bướu cổ do thiếu vi chất']\n",
      "==================================================\n",
      "Từ: ['bún bò', 'bún chả', 'cao lâu', 'dã vị', 'giả cầy', 'món', 'phở', 'thức', 'thức ăn', 'xôi xéo']\n",
      "SynsetID: vietnet-food-00000005-n\n",
      "Nghĩa: món ăn gồm bún trộn với thịt bò xào, giá đỗ và các thứ gia vị\n",
      "Ví dụ: ['đi ăn cao lâu \"Trước đây ông nấu bếp hiệu cao lâu Tầu, rồi ông ra mở phở.\" (Nguyễn Tuân; 36)', 'canh cua, cà muối, dưa hành là những dã vị mà người Việt Nam nào cũng ưa thích', 'món cá chép om dưa thực đơn gồm có chín món thích ăn món khoai tây rán', 'bát phở bốc khói nghi ngút phở xào giòn', 'đồ ăn thức uống mùa nào thức ấy \"Trong phiên chợ tết (...) những hàng được bày nhiều nhất trong mọi gian, phần nhiều lại là những thức xa xỉ.\" (Nguyễn Tuân; 32)', 'ăn vã thức ăn \"Bữa cơm có nhiều thức ăn. Hai đứa ăn có vẻ ngon lành lắm.\" (Anh Đức; 20)']\n",
      "------------------------------\n",
      "* hyponym\n",
      "**********\n",
      "Từ: ['canh', 'riêu', 'xúp']\n",
      "SynsetID: vietnet-food-00000019-n\n",
      "Nghĩa: món ăn có nhiều nước, thường nấu bằng rau với thịt hoặc tôm cá, dùng ăn với cơm\n",
      "Ví dụ: ['\"Anh đi anh nhớ quê nhà, Nhớ canh rau muống nhớ cà dầm tương.\" (Cdao)', 'cá nấu riêu riêu cua thích ăn bún riêu', 'món xúp gà xúp khoai tây']\n",
      "**********\n",
      "Từ: ['bánh đúc']\n",
      "SynsetID: vietnet-food-00000038-n\n",
      "Nghĩa: bánh nấu bằng bột gạo tẻ hoặc bột ngô quấy với nước vôi trong và hàn the, khi chín đổ ra cho đông thành tảng\n",
      "Ví dụ: ['quấy bánh đúc má bánh đúc (má tròn đầy phinh phính)']\n",
      "**********\n",
      "Từ: ['kem']\n",
      "SynsetID: vietnet-food-00000040-n\n",
      "Nghĩa: thức ăn làm bằng sữa, trứng, đường đánh lẫn với nhau cho đặc sánh lại\n",
      "Ví dụ: ['đánh kem bánh ngọt nhân kem']\n",
      "**********\n",
      "Từ: ['bánh gối']\n",
      "SynsetID: vietnet-food-00000043-n\n",
      "Nghĩa: bánh nhân thịt, miến, v.v., bọc trong vỏ bột gói giống như cái gối hình bán nguyệt có riềm, đem rán vàng, ăn với nước chấm và rau sống\n",
      "Ví dụ: []\n",
      "**********\n",
      "Từ: ['bánh bèo', 'bánh chưng', 'bánh đậu xanh', 'bánh giầy', 'chả', 'cốm', 'ép']\n",
      "SynsetID: vietnet-food-00000045-n\n",
      "Nghĩa: bánh làm bằng bột gạo tẻ xay ướt, đổ vào bát hoặc vào khuôn rồi hấp chín, trên rắc hành mỡ, ruốc tôm, hình giống cánh bèo\n",
      "Ví dụ: ['\"Thiên hạ ngày tết gói bánh chưng vuông, bánh chưng làng tôi lại tròn và dài như cây cột.\" (Đỗ Chu; 3)', 'chả cá bún chả chả rán nem công chả phượng', 'một ép xôi']\n",
      "**********\n",
      "Từ: ['chạo', 'gỏi', 'nem chạo', 'nem tai', 'nham', 'nộm', 'sa lát']\n",
      "SynsetID: vietnet-food-00000069-n\n",
      "Nghĩa: món ăn làm bằng bì lợn, thịt hay tôm cá chín tái, thái thành sợi mỏng, trộn với thính và ướp lá ổi\n",
      "Ví dụ: ['nộm hoa chuối nộm ngó sen', 'thái dưa chuột để trộn sa lát món sa lát Nga']\n",
      "**********\n",
      "Từ: ['ốp lết']\n",
      "SynsetID: vietnet-food-00000100-n\n",
      "Nghĩa: món ăn làm bằng trứng để nguyên lòng trắng, lòng đỏ, rán chín tới\n",
      "Ví dụ: ['bánh mì ốp lết (bánh mì ăn với trứng ốp lết)']\n",
      "**********\n",
      "Từ: ['chả giò', 'chả giò rế', 'nem', 'nem rán', 'nem rế', 'ram']\n",
      "SynsetID: vietnet-food-00000114-n\n",
      "Nghĩa: nem rán\n",
      "Ví dụ: ['ăn bún với nem', 'quấn ram']\n",
      "**********\n",
      "Từ: ['cơm chiên', 'cơm rang']\n",
      "SynsetID: vietnet-food-00000115-n\n",
      "Nghĩa: cơm rang\n",
      "Ví dụ: ['\"Cơm chiên ăn với cá ve, Thiếp đây chàng đấy, buôn bè ra khơi.\" (Cdao)', '\"Vợ Thủ bưng chiếc mâm từ dưới bếp lên. Bên trên là tô cơm rang và đĩa thịt vịt xào.\" (Nguyễn Khắc Trường; 1)']\n",
      "**********\n",
      "Từ: ['nem lụi']\n",
      "SynsetID: vietnet-food-00000116-n\n",
      "Nghĩa: món ăn làm bằng thịt lợn xay hoặc giã nhuyễn trộn với gia vị, được vê lại trên đầu que để nướng chín, thường ăn kèm với bánh đa nem và các thứ rau thơm\n",
      "Ví dụ: []\n",
      "**********\n",
      "Từ: ['mọc', 'xíu mại']\n",
      "SynsetID: vietnet-food-00000117-n\n",
      "Nghĩa: món ăn làm bằng thịt nạc giã nhỏ, vê thành viên tròn, hấp chín, thường ăn với món ăn khác có nước dùng\n",
      "Ví dụ: ['bún mọc']\n",
      "**********\n",
      "Từ: ['bột']\n",
      "SynsetID: vietnet-food-00000118-n\n",
      "Nghĩa: món ăn của trẻ em nấu từ bột gạo\n",
      "Ví dụ: ['quấy bột cho bé ăn bột']\n",
      "**********\n",
      "Từ: ['gỏi sinh cầm']\n",
      "SynsetID: vietnet-food-00000119-n\n",
      "Nghĩa: gỏi làm bằng cá tươi nhỏ để cả con\n",
      "Ví dụ: []\n"
     ]
    }
   ],
   "source": [
    "word = 'thức ăn'\n",
    "ss = lexicon.synsets(word)\n",
    "for s in ss:\n",
    "    print('=' * 50)\n",
    "    printInfo(s)\n",
    "    relation = s.relations()\n",
    "    for k, v in relation.items():\n",
    "        print('-' * 30)\n",
    "        print(f'* {k}')\n",
    "        for value in v:\n",
    "            print('*' * 10)\n",
    "            printInfo(value)"
   ]
  },
  {
   "cell_type": "code",
   "execution_count": 16,
   "id": "f7472b9f",
   "metadata": {},
   "outputs": [
    {
     "name": "stdout",
     "output_type": "stream",
     "text": [
      "==================================================\n",
      "Từ: ['thực phẩm']\n",
      "Nghĩa: các thứ dùng để chế biến thành món ăn, như thịt, cá, trứng, v.v. [nói khái quát]; phân biệt với lương thực\n",
      "Ví dụ: ['bảo quản thực phẩm nhà máy chế biến thực phẩm']\n",
      "Quan hệ: {'hypernym': [Synset('vietnet-food-00000001-n')], 'hyponym': [Synset('vietnet-food-00000011-n'), Synset('vietnet-food-00000041-n'), Synset('vietnet-food-00000062-n'), Synset('vietnet-food-00000097-n'), Synset('vietnet-food-00000101-n'), Synset('vietnet-food-00000140-n')]}\n"
     ]
    }
   ],
   "source": [
    "synset_text = 'vietnet-food-00000008-n'\n",
    "synset = lexicon.synset(synset_text)\n",
    "print('=' * 50)\n",
    "print(f'Từ: {synset.lemmas()}')\n",
    "print(f'Nghĩa: {synset.definition()}')\n",
    "print(f'Ví dụ: {synset.examples()}')\n",
    "print(f'Quan hệ: {synset.relations()}')"
   ]
  }
 ],
 "metadata": {
  "kernelspec": {
   "display_name": "Python 3",
   "language": "python",
   "name": "python3"
  },
  "language_info": {
   "codemirror_mode": {
    "name": "ipython",
    "version": 3
   },
   "file_extension": ".py",
   "mimetype": "text/x-python",
   "name": "python",
   "nbconvert_exporter": "python",
   "pygments_lexer": "ipython3",
   "version": "3.9.6"
  }
 },
 "nbformat": 4,
 "nbformat_minor": 5
}
