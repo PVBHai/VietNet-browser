{
 "cells": [
  {
   "cell_type": "code",
   "execution_count": 1,
   "id": "6ac9a96c",
   "metadata": {},
   "outputs": [],
   "source": [
    "import pandas as pd\n",
    "import numpy as np\n",
    "import wn"
   ]
  },
  {
   "cell_type": "code",
   "execution_count": null,
   "id": "f06d765f",
   "metadata": {},
   "outputs": [
    {
     "name": "stdout",
     "output_type": "stream",
     "text": [
      "🎉 Testing Vietnamese Lexicon Integration:\n",
      "==================================================\n",
      "📚 Available lexicons:\n",
      "  - oewn: Open Engish Wordnet\n",
      "  - omw-en: OMW English Wordnet based on WordNet 3.0\n",
      "  - omw-en31: OMW English Wordnet based on WordNet 3.1\n",
      "  - vietnet: VietNet Vietnamese Lexicon\n",
      "\n",
      "🔎 Testing Vietnamese word searches:\n",
      "\n",
      "✅ 'a': a\n",
      "   Definition: nông cụ gồm hai lưỡi cắt tra vào cán dài, để cắt cỏ hay gặt lúa...\n",
      "\n",
      "✅ 'ả': ả\n",
      "   Definition: từ dùng để chỉ người phụ nữ nào đó với ý coi thường...\n",
      "\n",
      "✅ 'sự vật': sự vật\n",
      "   Definition: cái tồn tại được nhận thức có ranh giới rõ ràng, phân biệt với những cái tồn tại...\n",
      "\n",
      "🎯 Vietnamese lexicon is fully functional!\n",
      "📁 Files: vietnet_lexicon.xml, create_vietnet_wn_lmf.py\n"
     ]
    }
   ],
   "source": [
    "# ✅ SUCCESS! Vietnamese lexicon has been created and integrated!\n",
    "# The issue was resolved by using WN-LMF 1.3 DTD instead of 1.4\n",
    "\n",
    "import wn\n",
    "\n",
    "# Test the Vietnamese lexicon\n",
    "print(\"🎉 Testing Vietnamese Lexicon Integration:\")\n",
    "print(\"=\" * 50)\n",
    "\n",
    "# Check available lexicons\n",
    "lexicons = wn.lexicons()\n",
    "print(\"📚 Available lexicons:\")\n",
    "for lex in lexicons:\n",
    "    print(f\"  - {lex.id}: {lex.label}\")\n",
    "\n",
    "# Test Vietnamese word search\n",
    "print(\"\\n🔎 Testing Vietnamese word searches:\")\n",
    "test_words = ['a', 'ả', 'sự vật', 'học']\n",
    "\n",
    "for word in test_words:\n",
    "    words = wn.words(word, lexicon='vietnet')\n",
    "    if words:\n",
    "        w = words[0]\n",
    "        print(f\"\\n✅ '{word}': {w.lemma()}\")\n",
    "        senses = w.senses()\n",
    "        if senses:\n",
    "            definition = senses[0].synset().definition()\n",
    "            if definition:\n",
    "                print(f\"   Definition: {definition[:80]}...\")\n",
    "\n",
    "print(\"\\n🎯 Vietnamese lexicon is fully functional!\")\n",
    "print(\"📁 Files: vietnet_lexicon.xml, create_vietnet_wn_lmf.py\")"
   ]
  },
  {
   "cell_type": "code",
   "execution_count": 3,
   "id": "529c62cf",
   "metadata": {},
   "outputs": [
    {
     "name": "stderr",
     "output_type": "stream",
     "text": [
      "\u001b[KSkipping vietnet:1.0 (VietNet Vietnamese Lexicon); already added\n",
      "\n"
     ]
    }
   ],
   "source": [
    "wn.add('vietnet_lexicon.xml')"
   ]
  }
 ],
 "metadata": {
  "kernelspec": {
   "display_name": "Python 3",
   "language": "python",
   "name": "python3"
  },
  "language_info": {
   "codemirror_mode": {
    "name": "ipython",
    "version": 3
   },
   "file_extension": ".py",
   "mimetype": "text/x-python",
   "name": "python",
   "nbconvert_exporter": "python",
   "pygments_lexer": "ipython3",
   "version": "3.9.6"
  }
 },
 "nbformat": 4,
 "nbformat_minor": 5
}
